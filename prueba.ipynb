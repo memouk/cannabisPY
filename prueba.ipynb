{
 "cells": [
  {
   "cell_type": "code",
   "execution_count": 1,
   "metadata": {},
   "outputs": [
    {
     "name": "stdout",
     "output_type": "stream",
     "text": [
      "   id codigo_qr  cultivo_id  etapa_id  altura    peso diametro_tallo  \\\n",
      "0   5  QR234710          10         2   46.37  440.32           2.53   \n",
      "1   6  QR549564          10         2  106.16  754.09           0.89   \n",
      "2   7  QR877799           2         5   34.63  170.35           1.66   \n",
      "3   8  QR558942           8         5   16.82  904.41           1.35   \n",
      "4   9  QR139421           7         5   81.55  407.87           4.08   \n",
      "5  10  QR434263           3         4   67.52  288.39           2.15   \n",
      "6  11  QR995773           8         5   77.48   87.22           1.37   \n",
      "7  12  QR794327           4         2   34.53  179.67           1.90   \n",
      "8  13  QR180564           5         5  119.31  581.71           0.59   \n",
      "9  14  QR106005           4         3  199.33  764.61           4.17   \n",
      "\n",
      "   num_hojas color_hojas tipo_origen planta_madre_id     proveedor  \\\n",
      "0         30     Color 5     Semilla            None          None   \n",
      "1         72     Color 6     Semilla            None          None   \n",
      "2         25     Color 7     Semilla            None          None   \n",
      "3         73     Color 3     Semilla            None  Proveedor 58   \n",
      "4         95     Color 8     Semilla            None  Proveedor 52   \n",
      "5         38     Color 1     Semilla            None  Proveedor 36   \n",
      "6         20     Color 7     Semilla            None          None   \n",
      "7         46     Color 6     Semilla            None          None   \n",
      "8         94     Color 8     Semilla            None  Proveedor 84   \n",
      "9         97     Color 8     Semilla            None  Proveedor 80   \n",
      "\n",
      "     fecha_germinacion     fecha_plantacion      fecha_floracion  \\\n",
      "0  2023-11-30 17:04:40  2024-01-14 17:04:40  2023-12-25 17:04:40   \n",
      "1  2023-07-17 17:04:40  2023-08-16 17:04:40  2024-04-22 17:04:40   \n",
      "2  2024-01-14 17:04:40  2023-09-01 17:04:40  2024-03-08 17:04:40   \n",
      "3  2024-04-24 17:04:40  2023-10-14 17:04:40  2024-02-15 17:04:40   \n",
      "4  2023-08-14 17:04:40  2024-01-26 17:04:40  2024-01-09 17:04:40   \n",
      "5  2023-11-04 17:04:40  2023-10-08 17:04:40  2024-04-18 17:04:40   \n",
      "6  2024-04-06 17:04:40  2023-08-12 17:04:40  2024-03-07 17:04:40   \n",
      "7  2024-01-07 17:04:40  2024-04-19 17:04:40  2024-02-19 17:04:40   \n",
      "8  2023-12-01 17:04:40  2023-08-11 17:04:40  2024-03-12 17:04:40   \n",
      "9  2023-06-07 17:04:40  2023-12-28 17:04:40  2024-01-26 17:04:40   \n",
      "\n",
      "         fecha_cosecha semilla_id filename  \n",
      "0  2024-04-03 17:04:40       None     None  \n",
      "1  2024-05-22 17:04:40       None     None  \n",
      "2  2024-04-25 17:04:40       None     None  \n",
      "3  2024-04-27 17:04:40       None     None  \n",
      "4  2024-04-30 17:04:40       None     None  \n",
      "5  2024-03-19 17:04:40       None     None  \n",
      "6  2024-05-10 17:04:40       None     None  \n",
      "7  2024-05-17 17:04:40       None     None  \n",
      "8  2024-05-25 17:04:40       None     None  \n",
      "9  2024-03-30 17:04:40       None     None  \n",
      "<class 'pandas.core.frame.DataFrame'>\n",
      "RangeIndex: 20 entries, 0 to 19\n",
      "Data columns (total 18 columns):\n",
      " #   Column             Non-Null Count  Dtype \n",
      "---  ------             --------------  ----- \n",
      " 0   id                 20 non-null     int64 \n",
      " 1   codigo_qr          20 non-null     object\n",
      " 2   cultivo_id         20 non-null     int64 \n",
      " 3   etapa_id           20 non-null     int64 \n",
      " 4   altura             20 non-null     object\n",
      " 5   peso               20 non-null     object\n",
      " 6   diametro_tallo     20 non-null     object\n",
      " 7   num_hojas          20 non-null     int64 \n",
      " 8   color_hojas        20 non-null     object\n",
      " 9   tipo_origen        20 non-null     object\n",
      " 10  planta_madre_id    0 non-null      object\n",
      " 11  proveedor          12 non-null     object\n",
      " 12  fecha_germinacion  20 non-null     object\n",
      " 13  fecha_plantacion   20 non-null     object\n",
      " 14  fecha_floracion    20 non-null     object\n",
      " 15  fecha_cosecha      20 non-null     object\n",
      " 16  semilla_id         0 non-null      object\n",
      " 17  filename           0 non-null      object\n",
      "dtypes: int64(4), object(14)\n",
      "memory usage: 2.9+ KB\n",
      "None\n",
      "etapa_id\n",
      "5    7\n",
      "4    5\n",
      "2    4\n",
      "3    2\n",
      "1    2\n",
      "Name: count, dtype: int64\n"
     ]
    }
   ],
   "source": [
    "import requests\n",
    "import pandas as pd\n",
    "import matplotlib.pyplot as plt\n",
    "\n",
    "\n",
    "url = \"http://localhost:8080/api/plantas\"\n",
    "\n",
    "response = requests.get(url)\n",
    "\n",
    "if response.status_code == 200:\n",
    "    data = response.json()\n",
    "    df = pd.DataFrame(data[\"items\"])\n",
    "    #print(df)\n",
    "    #print(data)\n",
    "    print(df.iloc[0:10])\n",
    "    print(df.info())\n",
    "           \n",
    "    print(df['etapa_id'].value_counts())\n",
    "\n",
    "    \n",
    "else:\n",
    "    print(\"Error:\", response.status_code)"
   ]
  },
  {
   "cell_type": "code",
   "execution_count": 2,
   "metadata": {},
   "outputs": [
    {
     "data": {
      "image/png": "[encoded data removed]",
      "text/plain": [
       "<Figure size 640x480 with 1 Axes>"
      ]
     },
     "metadata": {},
     "output_type": "display_data"
    }
   ],
   "source": [
    "plt.bar([1,2,3,4,5],df['etapa_id'].value_counts())\n",
    "plt.xlabel('Cantidad de plantas por etapa')\n",
    "plt.ylabel('Etapa')\n",
    "plt.show()"
   ]
  },
  {
   "cell_type": "code",
   "execution_count": 13,
   "metadata": {},
   "outputs": [
    {
     "ename": "KeyError",
     "evalue": "'altura'",
     "output_type": "error",
     "traceback": [
      "\u001b[0;31m---------------------------------------------------------------------------\u001b[0m",
      "\u001b[0;31mKeyError\u001b[0m                                  Traceback (most recent call last)",
      "Cell \u001b[0;32mIn[13], line 5\u001b[0m\n\u001b[1;32m      2\u001b[0m df_filtered \u001b[38;5;241m=\u001b[39m pd\u001b[38;5;241m.\u001b[39mDataFrame()  \u001b[38;5;66;03m# Replace this line with the code to define and populate df_filtered\u001b[39;00m\n\u001b[1;32m      4\u001b[0m \u001b[38;5;66;03m# Convert 'altura' column to numeric\u001b[39;00m\n\u001b[0;32m----> 5\u001b[0m df_filtered[\u001b[38;5;124m'\u001b[39m\u001b[38;5;124maltura\u001b[39m\u001b[38;5;124m'\u001b[39m] \u001b[38;5;241m=\u001b[39m pd\u001b[38;5;241m.\u001b[39mto_numeric(\u001b[43mdf_filtered\u001b[49m\u001b[43m[\u001b[49m\u001b[38;5;124;43m'\u001b[39;49m\u001b[38;5;124;43maltura\u001b[39;49m\u001b[38;5;124;43m'\u001b[39;49m\u001b[43m]\u001b[49m)\n\u001b[1;32m      7\u001b[0m \u001b[38;5;66;03m# Plot the data\u001b[39;00m\n\u001b[1;32m      8\u001b[0m df_filtered\u001b[38;5;241m.\u001b[39mplot(x\u001b[38;5;241m=\u001b[39m\u001b[38;5;124m'\u001b[39m\u001b[38;5;124mid\u001b[39m\u001b[38;5;124m'\u001b[39m, y\u001b[38;5;241m=\u001b[39m\u001b[38;5;124m'\u001b[39m\u001b[38;5;124maltura\u001b[39m\u001b[38;5;124m'\u001b[39m, kind\u001b[38;5;241m=\u001b[39m\u001b[38;5;124m'\u001b[39m\u001b[38;5;124mbar\u001b[39m\u001b[38;5;124m'\u001b[39m)\n",
      "File \u001b[0;32m~/Documentos/ProyectoCannabis/cannabisPY/env/lib/python3.10/site-packages/pandas/core/frame.py:4102\u001b[0m, in \u001b[0;36mDataFrame.__getitem__\u001b[0;34m(self, key)\u001b[0m\n\u001b[1;32m   4100\u001b[0m \u001b[38;5;28;01mif\u001b[39;00m \u001b[38;5;28mself\u001b[39m\u001b[38;5;241m.\u001b[39mcolumns\u001b[38;5;241m.\u001b[39mnlevels \u001b[38;5;241m>\u001b[39m \u001b[38;5;241m1\u001b[39m:\n\u001b[1;32m   4101\u001b[0m     \u001b[38;5;28;01mreturn\u001b[39;00m \u001b[38;5;28mself\u001b[39m\u001b[38;5;241m.\u001b[39m_getitem_multilevel(key)\n\u001b[0;32m-> 4102\u001b[0m indexer \u001b[38;5;241m=\u001b[39m \u001b[38;5;28;43mself\u001b[39;49m\u001b[38;5;241;43m.\u001b[39;49m\u001b[43mcolumns\u001b[49m\u001b[38;5;241;43m.\u001b[39;49m\u001b[43mget_loc\u001b[49m\u001b[43m(\u001b[49m\u001b[43mkey\u001b[49m\u001b[43m)\u001b[49m\n\u001b[1;32m   4103\u001b[0m \u001b[38;5;28;01mif\u001b[39;00m is_integer(indexer):\n\u001b[1;32m   4104\u001b[0m     indexer \u001b[38;5;241m=\u001b[39m [indexer]\n",
      "File \u001b[0;32m~/Documentos/ProyectoCannabis/cannabisPY/env/lib/python3.10/site-packages/pandas/core/indexes/range.py:417\u001b[0m, in \u001b[0;36mRangeIndex.get_loc\u001b[0;34m(self, key)\u001b[0m\n\u001b[1;32m    415\u001b[0m         \u001b[38;5;28;01mraise\u001b[39;00m \u001b[38;5;167;01mKeyError\u001b[39;00m(key) \u001b[38;5;28;01mfrom\u001b[39;00m \u001b[38;5;21;01merr\u001b[39;00m\n\u001b[1;32m    416\u001b[0m \u001b[38;5;28;01mif\u001b[39;00m \u001b[38;5;28misinstance\u001b[39m(key, Hashable):\n\u001b[0;32m--> 417\u001b[0m     \u001b[38;5;28;01mraise\u001b[39;00m \u001b[38;5;167;01mKeyError\u001b[39;00m(key)\n\u001b[1;32m    418\u001b[0m \u001b[38;5;28mself\u001b[39m\u001b[38;5;241m.\u001b[39m_check_indexing_error(key)\n\u001b[1;32m    419\u001b[0m \u001b[38;5;28;01mraise\u001b[39;00m \u001b[38;5;167;01mKeyError\u001b[39;00m(key)\n",
      "\u001b[0;31mKeyError\u001b[0m: 'altura'"
     ]
    }
   ],
   "source": [
    "# Ensure df_filtered is defined and contains the necessary data\n",
    "df_filtered = pd.DataFrame()  # Replace this line with the code to define and populate df_filtered\n",
    "\n",
    "# Convert 'altura' column to numeric\n",
    "df_filtered['altura'] = pd.to_numeric(df_filtered['altura'])\n",
    "\n",
    "# Plot the data\n",
    "df_filtered.plot(x='id', y='altura', kind='bar')\n",
    "plt.xlabel('ID de planta')\n",
    "plt.ylabel('Altura')\n",
    "plt.title('Plantas de Color 7 con altura mayor a 60 cm')\n",
    "plt.show()"
   ]
  }
 ],
 "metadata": {
  "kernelspec": {
   "display_name": "env",
   "language": "python",
   "name": "python3"
  },
  "language_info": {
   "codemirror_mode": {
    "name": "ipython",
    "version": 3
   },
   "file_extension": ".py",
   "mimetype": "text/x-python",
   "name": "python",
   "nbconvert_exporter": "python",
   "pygments_lexer": "ipython3",
   "version": "3.10.12"
  }
 },
 "nbformat": 4,
 "nbformat_minor": 2
}
